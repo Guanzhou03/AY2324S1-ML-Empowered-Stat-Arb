{
 "cells": [
  {
   "cell_type": "code",
   "execution_count": 1,
   "metadata": {},
   "outputs": [
    {
     "name": "stderr",
     "output_type": "stream",
     "text": [
      "2023-09-16 09:03:11.003609: I metal_plugin/src/device/metal_device.cc:1154] Metal device set to: Apple M1\n",
      "2023-09-16 09:03:11.003639: I metal_plugin/src/device/metal_device.cc:296] systemMemory: 16.00 GB\n",
      "2023-09-16 09:03:11.003645: I metal_plugin/src/device/metal_device.cc:313] maxCacheSize: 5.33 GB\n",
      "2023-09-16 09:03:11.004180: I tensorflow/core/common_runtime/pluggable_device/pluggable_device_factory.cc:303] Could not identify NUMA node of platform GPU ID 0, defaulting to 0. Your kernel may not have been built with NUMA support.\n",
      "2023-09-16 09:03:11.004478: I tensorflow/core/common_runtime/pluggable_device/pluggable_device_factory.cc:269] Created TensorFlow device (/job:localhost/replica:0/task:0/device:GPU:0 with 0 MB memory) -> physical PluggableDevice (device: 0, name: METAL, pci bus id: <undefined>)\n"
     ]
    }
   ],
   "source": [
    "from keras.models import Sequential\n",
    "from keras.layers import LSTM, Dense\n",
    "\n",
    "model = Sequential()\n",
    "model.add(LSTM(10, input_shape=(100, 1)))\n",
    "model.add(Dense(1, activation='sigmoid'))\n",
    "\n",
    "model.compile(loss='binary_crossentropy', optimizer='adam')"
   ]
  },
  {
   "cell_type": "code",
   "execution_count": 2,
   "metadata": {},
   "outputs": [
    {
     "name": "stdout",
     "output_type": "stream",
     "text": [
      "Epoch 1/10\n"
     ]
    },
    {
     "name": "stderr",
     "output_type": "stream",
     "text": [
      "2023-09-16 09:03:15.185629: I tensorflow/core/grappler/optimizers/custom_graph_optimizer_registry.cc:114] Plugin optimizer for device_type GPU is enabled.\n",
      "2023-09-16 09:03:15.486534: I tensorflow/core/grappler/optimizers/custom_graph_optimizer_registry.cc:114] Plugin optimizer for device_type GPU is enabled.\n",
      "2023-09-16 09:03:17.801393: I tensorflow/core/grappler/optimizers/custom_graph_optimizer_registry.cc:114] Plugin optimizer for device_type GPU is enabled.\n"
     ]
    },
    {
     "name": "stdout",
     "output_type": "stream",
     "text": [
      "32/32 [==============================] - 6s 39ms/step - loss: 0.6921\n",
      "Epoch 2/10\n",
      "32/32 [==============================] - 1s 17ms/step - loss: 0.6919\n",
      "Epoch 3/10\n",
      "32/32 [==============================] - 1s 21ms/step - loss: 0.6916\n",
      "Epoch 4/10\n",
      "32/32 [==============================] - 1s 18ms/step - loss: 0.6915\n",
      "Epoch 5/10\n",
      "32/32 [==============================] - 1s 17ms/step - loss: 0.6913\n",
      "Epoch 6/10\n",
      "32/32 [==============================] - 1s 17ms/step - loss: 0.6913\n",
      "Epoch 7/10\n",
      "32/32 [==============================] - 1s 18ms/step - loss: 0.6917\n",
      "Epoch 8/10\n",
      "32/32 [==============================] - 1s 18ms/step - loss: 0.6913\n",
      "Epoch 9/10\n",
      "32/32 [==============================] - 1s 21ms/step - loss: 0.6914\n",
      "Epoch 10/10\n",
      "32/32 [==============================] - 1s 24ms/step - loss: 0.6917\n"
     ]
    },
    {
     "data": {
      "text/plain": [
       "<keras.src.callbacks.History at 0x103531460>"
      ]
     },
     "execution_count": 2,
     "metadata": {},
     "output_type": "execute_result"
    }
   ],
   "source": [
    "import numpy as np\n",
    "\n",
    "X_train = np.random.random((1000, 100, 1))\n",
    "y_train = np.random.randint(2, size=(1000, 1))\n",
    "\n",
    "model.fit(X_train, y_train, epochs=10)"
   ]
  },
  {
   "cell_type": "code",
   "execution_count": 14,
   "metadata": {},
   "outputs": [
    {
     "data": {
      "text/plain": [
       "100"
      ]
     },
     "execution_count": 14,
     "metadata": {},
     "output_type": "execute_result"
    }
   ],
   "source": [
    "len(X_train[0])"
   ]
  },
  {
   "cell_type": "code",
   "execution_count": 8,
   "metadata": {},
   "outputs": [
    {
     "data": {
      "text/plain": [
       "1000"
      ]
     },
     "execution_count": 8,
     "metadata": {},
     "output_type": "execute_result"
    }
   ],
   "source": [
    "len(y_train)"
   ]
  },
  {
   "cell_type": "code",
   "execution_count": 3,
   "metadata": {},
   "outputs": [
    {
     "data": {
      "text/plain": [
       "[array([[ 0.10063591,  0.2583147 , -0.11122523,  0.18995431, -0.00153703,\n",
       "         -0.33548278, -0.1428392 , -0.17577587, -0.25522768,  0.16329952,\n",
       "          0.1612131 ,  0.31419283, -0.27840626,  0.07683276, -0.21044554,\n",
       "         -0.355992  , -0.2846952 , -0.29582375, -0.20602176, -0.23880036,\n",
       "          0.2249617 , -0.24239057,  0.25672585, -0.21617915, -0.23093615,\n",
       "          0.04159534,  0.17314744,  0.39017975, -0.02929887,  0.19010213,\n",
       "         -0.34857383, -0.10134298, -0.36608952, -0.18278785,  0.3224577 ,\n",
       "          0.14822873,  0.30966508, -0.30734769,  0.10880143,  0.22131082]],\n",
       "       dtype=float32),\n",
       " array([[ 2.97415495e-01,  2.01572478e-01, -3.57911699e-02,\n",
       "          6.06893711e-02, -9.97590199e-02, -4.01038639e-02,\n",
       "         -1.18061408e-01,  3.45943905e-02, -3.93691584e-02,\n",
       "         -6.94545582e-02,  6.84226900e-02,  1.57422528e-01,\n",
       "          1.08618720e-03,  1.62090093e-01,  1.27415374e-01,\n",
       "         -1.74268752e-01,  2.27197573e-01, -2.99086776e-02,\n",
       "          2.65055448e-01,  6.71574697e-02, -1.46059677e-01,\n",
       "          2.63353646e-01, -1.98056176e-02,  3.11946481e-01,\n",
       "         -1.23861820e-01, -1.65875927e-01,  6.64693415e-02,\n",
       "         -3.27185504e-02,  1.73062086e-01, -2.23648753e-02,\n",
       "          3.24253663e-02, -2.26227537e-01, -2.58625180e-01,\n",
       "          3.90875936e-01,  5.79608083e-02,  2.36424565e-01,\n",
       "          3.44378836e-02, -2.28103604e-02, -1.86876208e-02,\n",
       "         -1.69834923e-02],\n",
       "        [ 8.70280191e-02, -1.60240844e-01,  7.23208338e-02,\n",
       "          4.75225374e-02, -5.85397035e-02,  2.31637314e-01,\n",
       "          1.59168895e-02,  2.69915611e-01, -4.10737932e-01,\n",
       "         -7.37601295e-02, -8.02720636e-02,  7.40961134e-02,\n",
       "         -2.97217327e-03, -2.08359100e-02,  4.25526537e-02,\n",
       "         -5.05432561e-02, -2.74338454e-01,  7.46226907e-02,\n",
       "         -1.42696453e-02,  5.54271787e-02,  1.17536813e-01,\n",
       "         -1.65607795e-01,  1.69785246e-01,  2.79814214e-01,\n",
       "          3.10099293e-02, -1.09977564e-02, -7.26071224e-02,\n",
       "         -1.28278747e-01, -5.97046539e-02,  1.90098107e-01,\n",
       "         -1.60549253e-01,  2.20495045e-01, -1.10578611e-01,\n",
       "         -4.06536497e-02,  1.76849768e-01,  2.76416689e-01,\n",
       "          7.95652792e-02,  3.52486730e-01,  1.00272328e-01,\n",
       "          4.20371443e-02],\n",
       "        [ 5.17401434e-02,  3.22722465e-01, -1.63492575e-01,\n",
       "         -6.11106157e-02, -8.00272375e-02, -1.81238756e-01,\n",
       "          1.33743033e-01,  2.74883151e-01, -5.76774515e-02,\n",
       "          1.11002170e-01,  1.23945124e-01, -1.41928449e-01,\n",
       "         -6.27106950e-02,  2.06326261e-01, -2.71622300e-01,\n",
       "          4.96688560e-02, -1.13599682e-02, -2.36453116e-03,\n",
       "         -2.78236996e-02, -6.38953596e-02, -1.44804701e-01,\n",
       "         -3.24217945e-01,  1.26494825e-01, -7.36619011e-02,\n",
       "         -4.59316783e-02,  2.31427401e-02,  1.49573207e-01,\n",
       "         -1.75286550e-02,  2.24615201e-01, -3.10215652e-01,\n",
       "         -1.08519243e-02,  2.16577441e-01, -2.49366418e-01,\n",
       "         -4.31528352e-02, -1.46540301e-02, -7.04151541e-02,\n",
       "          1.04509234e-01,  3.90797183e-02,  2.80338466e-01,\n",
       "         -1.96420357e-01],\n",
       "        [-6.65462241e-02, -3.40744555e-01, -1.88750699e-02,\n",
       "          1.43215591e-02,  1.96960121e-01, -2.33075079e-02,\n",
       "          8.60935971e-02, -2.14600980e-01, -2.31203139e-02,\n",
       "         -4.40397114e-01, -3.41335423e-02, -2.38125280e-01,\n",
       "         -1.93556175e-01, -4.79058325e-02, -1.37972668e-01,\n",
       "          3.51604586e-03,  7.77861010e-03, -2.50915170e-01,\n",
       "          1.09769277e-01, -1.54451495e-02, -2.71022260e-01,\n",
       "          3.77680268e-03, -1.36883974e-01,  3.46693188e-01,\n",
       "         -5.82203753e-02,  7.10123405e-02, -4.68307212e-02,\n",
       "         -7.49431849e-02,  1.91824943e-01, -1.41126662e-01,\n",
       "         -2.11518798e-02,  1.24514043e-01,  1.38649374e-01,\n",
       "         -2.27053259e-02,  1.66474864e-01, -1.41362445e-02,\n",
       "          5.11659458e-02, -1.29101589e-01,  1.55003920e-01,\n",
       "         -1.20666787e-01],\n",
       "        [-1.77321926e-01, -1.02309018e-01,  5.37613174e-03,\n",
       "         -3.66410077e-01,  4.81152721e-02, -1.37241334e-01,\n",
       "          8.27586337e-04,  4.03366052e-02,  2.56416555e-02,\n",
       "          9.18380246e-02, -7.42916465e-02,  1.02924772e-01,\n",
       "         -1.66684762e-01,  1.18604660e-01,  5.64316809e-02,\n",
       "         -5.09172678e-02,  1.54719725e-02, -2.75403529e-01,\n",
       "         -1.27630070e-01, -1.27515942e-01, -1.39437132e-02,\n",
       "          2.68758357e-01, -7.18308100e-03,  5.89878708e-02,\n",
       "         -4.24959421e-01, -1.70109063e-01,  8.36954340e-02,\n",
       "          1.45163551e-01, -3.47641259e-01,  1.38654448e-02,\n",
       "          1.06607169e-01, -1.65572227e-03, -1.93614319e-01,\n",
       "         -2.71759540e-01,  9.17745680e-02,  6.69557676e-02,\n",
       "          1.79014653e-02,  1.81935623e-01,  8.73868018e-02,\n",
       "         -1.50905982e-01],\n",
       "        [ 4.01901174e-03,  2.70540193e-02, -1.94272250e-01,\n",
       "          5.32027194e-03,  7.34345103e-03,  8.32601935e-02,\n",
       "          1.42748639e-01,  5.87838423e-03,  2.42204860e-01,\n",
       "         -4.20581326e-02,  8.04273933e-02, -1.38338298e-01,\n",
       "         -1.06302224e-01, -1.13649189e-01,  1.56331751e-02,\n",
       "         -1.32434309e-01,  2.65224397e-01,  1.60137326e-01,\n",
       "         -8.17955658e-02, -2.56189406e-01,  4.66606140e-01,\n",
       "         -1.07882686e-01,  1.94194183e-01,  2.31647432e-01,\n",
       "         -1.90864369e-01,  9.42202881e-02,  4.43227664e-02,\n",
       "         -1.03515349e-01, -3.42745557e-02,  1.84581745e-02,\n",
       "         -2.53765464e-01, -2.49390364e-01,  7.48753250e-02,\n",
       "         -5.59129715e-02, -1.53582767e-01,  1.70168251e-01,\n",
       "         -1.33212479e-02, -1.46098271e-01,  2.67701834e-01,\n",
       "          6.47786707e-02],\n",
       "        [ 1.39548592e-02, -5.44797331e-02, -7.89530855e-03,\n",
       "          8.88680518e-02,  9.44066793e-02,  3.47001135e-01,\n",
       "          2.86627650e-01, -4.59928550e-02, -8.04713834e-03,\n",
       "          1.03440098e-01, -3.51183563e-02, -1.64883643e-01,\n",
       "         -1.26002938e-01,  8.97003710e-02, -1.07372239e-01,\n",
       "         -3.58135879e-01,  7.35037923e-02, -3.18549173e-05,\n",
       "         -4.99894880e-02, -8.85625556e-02,  3.78455296e-02,\n",
       "          2.64616936e-01,  1.00978643e-01, -8.46452266e-02,\n",
       "         -2.74885297e-02,  2.44456783e-01, -1.61363468e-01,\n",
       "         -1.36167243e-01,  1.89193875e-01,  2.18125790e-01,\n",
       "          2.25767955e-01,  5.71918152e-02, -3.00201565e-01,\n",
       "          1.29179992e-02, -6.97795302e-02, -2.81144053e-01,\n",
       "          2.86213681e-02,  1.13475136e-01, -1.42334059e-01,\n",
       "         -9.06515419e-02],\n",
       "        [ 1.43267922e-02,  1.16969489e-01,  6.65373774e-03,\n",
       "         -5.34503497e-02,  2.47813836e-01,  8.56966674e-02,\n",
       "         -1.10940672e-01,  2.18032245e-02,  1.17984883e-01,\n",
       "          9.89533514e-02,  7.61279687e-02, -5.75573862e-01,\n",
       "          1.20388970e-01,  3.17991562e-02, -1.67459145e-01,\n",
       "          7.26917535e-02, -2.48170272e-01,  3.21590193e-02,\n",
       "         -1.78577751e-01,  1.29005805e-01, -9.89780799e-02,\n",
       "          8.86198804e-02,  2.18992710e-01,  5.23311608e-02,\n",
       "          1.18190830e-03, -2.61197597e-01, -7.48284459e-02,\n",
       "         -1.69184282e-02, -4.30438444e-02,  5.33895046e-02,\n",
       "          2.46436477e-01, -1.78899020e-01,  3.10727675e-02,\n",
       "          1.10302538e-01,  8.86378065e-02,  2.36054167e-01,\n",
       "         -1.87626436e-01,  1.19582703e-02,  6.81374073e-02,\n",
       "          1.65427551e-01],\n",
       "        [ 2.02008039e-02,  9.03810710e-02, -2.31456652e-01,\n",
       "          5.16445450e-02,  6.62016422e-02,  1.39835417e-01,\n",
       "         -2.46519431e-01,  1.08904637e-01,  1.97541825e-02,\n",
       "          6.62369281e-02,  1.42427802e-01,  1.21451594e-01,\n",
       "         -1.45192087e-01, -3.37731421e-01, -2.15718597e-01,\n",
       "         -1.32953808e-01, -3.13710302e-01, -4.72334810e-02,\n",
       "          2.21042529e-01,  2.77851462e-01,  2.80166835e-01,\n",
       "          6.27189428e-02, -5.42373694e-02, -1.25254248e-03,\n",
       "         -2.10648984e-01,  2.72479765e-02,  2.26291925e-01,\n",
       "          1.32143304e-01,  1.01369977e-01,  3.26104835e-02,\n",
       "          9.58050564e-02, -7.71010518e-02,  1.04992472e-01,\n",
       "          1.19770914e-02,  2.03793094e-01, -2.52493918e-01,\n",
       "          6.80325031e-02, -6.84213936e-02,  1.13349386e-01,\n",
       "         -5.81858419e-02],\n",
       "        [-1.51059851e-01, -1.63787991e-01, -1.07693501e-01,\n",
       "         -6.66957498e-02,  3.30453902e-01, -2.39113048e-02,\n",
       "         -1.03035636e-01,  1.64085314e-01, -3.27148139e-02,\n",
       "          9.85007584e-02, -1.35616064e-01,  3.71146835e-02,\n",
       "          2.45913669e-01, -3.03723775e-02,  2.88010329e-01,\n",
       "         -7.53979981e-02, -3.50598432e-02,  1.23442002e-01,\n",
       "         -1.09267225e-02, -2.66169786e-01,  4.75426167e-02,\n",
       "         -3.27887088e-01, -1.86591949e-02,  4.23227176e-02,\n",
       "         -2.38689765e-01, -6.88595846e-02,  7.73371756e-02,\n",
       "         -6.47090003e-02,  3.04143846e-01, -5.32785133e-02,\n",
       "          1.64943188e-01, -8.46379995e-02,  8.22898522e-02,\n",
       "          2.09963128e-01,  3.76631096e-02, -6.12253398e-02,\n",
       "         -1.89047128e-01,  5.47460690e-02, -2.36228690e-01,\n",
       "         -2.82358468e-01]], dtype=float32),\n",
       " array([ 0.00817438,  0.00714753,  0.01006068, -0.01346374, -0.00994421,\n",
       "         0.00989786,  0.00594234,  0.0122458 ,  0.00640485, -0.007997  ,\n",
       "         1.0071951 ,  1.0095025 ,  1.0115427 ,  0.98657894,  0.98958445,\n",
       "         1.0021498 ,  1.0072042 ,  1.0068297 ,  1.0070457 ,  0.9893362 ,\n",
       "         0.01274833, -0.01295982,  0.01585081,  0.01609742,  0.01838016,\n",
       "        -0.01344322,  0.01472443,  0.01081606,  0.01356131, -0.01887839,\n",
       "         0.00626832,  0.00248567,  0.00845432, -0.01188455, -0.00984755,\n",
       "         0.00784167,  0.00608435,  0.01018457,  0.006313  , -0.00759155],\n",
       "       dtype=float32)]"
      ]
     },
     "execution_count": 3,
     "metadata": {},
     "output_type": "execute_result"
    }
   ],
   "source": [
    "weights = model.layers[0].get_weights()\n",
    "weights"
   ]
  },
  {
   "cell_type": "code",
   "execution_count": 5,
   "metadata": {},
   "outputs": [
    {
     "data": {
      "image/png": "[encoded data removed]",
      "text/plain": [
       "<Figure size 1000x1000 with 3 Axes>"
      ]
     },
     "metadata": {},
     "output_type": "display_data"
    }
   ],
   "source": [
    "import matplotlib.pyplot as plt\n",
    "\n",
    "fig, axs = plt.subplots(3, figsize=(10, 10))\n",
    "\n",
    "axs[0].imshow(weights[0], cmap='hot', interpolation='nearest')\n",
    "axs[0].set_title('Input Weights')\n",
    "\n",
    "axs[1].imshow(weights[1], cmap='hot', interpolation='nearest')\n",
    "axs[1].set_title('Recurrent Weights')\n",
    "\n",
    "axs[2].imshow(weights[2].reshape(-1, 1), cmap='hot', interpolation='nearest')\n",
    "axs[2].set_title('Bias Weights')\n",
    "\n",
    "plt.tight_layout()\n",
    "plt.show()"
   ]
  }
 ],
 "metadata": {
  "kernelspec": {
   "display_name": "nus_fintech",
   "language": "python",
   "name": "python3"
  },
  "language_info": {
   "codemirror_mode": {
    "name": "ipython",
    "version": 3
   },
   "file_extension": ".py",
   "mimetype": "text/x-python",
   "name": "python",
   "nbconvert_exporter": "python",
   "pygments_lexer": "ipython3",
   "version": "3.8.17"
  },
  "orig_nbformat": 4
 },
 "nbformat": 4,
 "nbformat_minor": 2
}
