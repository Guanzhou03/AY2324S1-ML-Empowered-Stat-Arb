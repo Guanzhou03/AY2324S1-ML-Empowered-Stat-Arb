{
 "cells": [
  {
   "cell_type": "code",
   "execution_count": 42,
   "metadata": {},
   "outputs": [],
   "source": [
    "import numpy as np\n",
    "import pandas as pd\n",
    "from sklearn.model_selection import train_test_split\n",
    "from tensorflow.keras.models import Sequential\n",
    "from tensorflow.keras.layers import LSTM, Dense\n",
    "from sklearn.preprocessing import MinMaxScaler, OneHotEncoder\n",
    "from sklearn.compose import ColumnTransformer\n",
    "from keras.models import Sequential\n",
    "from keras.layers import Dense, LSTM\n",
    "from keras.optimizers import Adam\n",
    "import matplotlib.pyplot as plt\n",
    "import yfinance as yf"
   ]
  },
  {
   "cell_type": "markdown",
   "metadata": {},
   "source": [
    "# Reading and storing the Data"
   ]
  },
  {
   "cell_type": "code",
   "execution_count": 25,
   "metadata": {},
   "outputs": [],
   "source": [
    "xls = pd.ExcelFile('data/data_for_testing.xlsx')\n",
    "all_data = {}\n",
    "# This is too much data to load into memory at once\n",
    "# for sheet in xls.sheet_names:\n",
    "#     all_data[sheet] = pd.read_excel(xls, sheet_name=sheet)\n",
    "for sheet in [\"XOM\", \"SHW\", \"UPS\", \"DUK\", \"UNH\", \"JPM\", \"AMZN\", \"AAPL\", \"META\", \"AMT\"]:\n",
    "    data = pd.read_excel(xls, sheet_name=sheet).set_index('Date')\n",
    "    # Resample to monthly data as a simple way to reduce the number of data points\n",
    "    # Daily data is too much and take too long to train\n",
    "    monthly_data = data.resample('M').last().reset_index()\n",
    "    all_data[sheet] = monthly_data"
   ]
  },
  {
   "cell_type": "code",
   "execution_count": 89,
   "metadata": {},
   "outputs": [
    {
     "data": {
      "text/html": [
       "<div>\n",
       "<style scoped>\n",
       "    .dataframe tbody tr th:only-of-type {\n",
       "        vertical-align: middle;\n",
       "    }\n",
       "\n",
       "    .dataframe tbody tr th {\n",
       "        vertical-align: top;\n",
       "    }\n",
       "\n",
       "    .dataframe thead th {\n",
       "        text-align: right;\n",
       "    }\n",
       "</style>\n",
       "<table border=\"1\" class=\"dataframe\">\n",
       "  <thead>\n",
       "    <tr style=\"text-align: right;\">\n",
       "      <th></th>\n",
       "      <th>Date</th>\n",
       "      <th>Open</th>\n",
       "      <th>...</th>\n",
       "      <th>Sector</th>\n",
       "      <th>Ticker</th>\n",
       "    </tr>\n",
       "  </thead>\n",
       "  <tbody>\n",
       "    <tr>\n",
       "      <th>0</th>\n",
       "      <td>1962-01-31</td>\n",
       "      <td>0.0</td>\n",
       "      <td>...</td>\n",
       "      <td>Energy</td>\n",
       "      <td>XOM</td>\n",
       "    </tr>\n",
       "    <tr>\n",
       "      <th>1</th>\n",
       "      <td>1962-02-28</td>\n",
       "      <td>0.0</td>\n",
       "      <td>...</td>\n",
       "      <td>Energy</td>\n",
       "      <td>XOM</td>\n",
       "    </tr>\n",
       "    <tr>\n",
       "      <th>2</th>\n",
       "      <td>1962-03-31</td>\n",
       "      <td>0.0</td>\n",
       "      <td>...</td>\n",
       "      <td>Energy</td>\n",
       "      <td>XOM</td>\n",
       "    </tr>\n",
       "    <tr>\n",
       "      <th>3</th>\n",
       "      <td>1962-04-30</td>\n",
       "      <td>0.0</td>\n",
       "      <td>...</td>\n",
       "      <td>Energy</td>\n",
       "      <td>XOM</td>\n",
       "    </tr>\n",
       "    <tr>\n",
       "      <th>4</th>\n",
       "      <td>1962-05-31</td>\n",
       "      <td>0.0</td>\n",
       "      <td>...</td>\n",
       "      <td>Energy</td>\n",
       "      <td>XOM</td>\n",
       "    </tr>\n",
       "  </tbody>\n",
       "</table>\n",
       "<p>5 rows × 9 columns</p>\n",
       "</div>"
      ],
      "text/plain": [
       "        Date  Open  ...  Sector  Ticker\n",
       "0 1962-01-31   0.0  ...  Energy     XOM\n",
       "1 1962-02-28   0.0  ...  Energy     XOM\n",
       "2 1962-03-31   0.0  ...  Energy     XOM\n",
       "3 1962-04-30   0.0  ...  Energy     XOM\n",
       "4 1962-05-31   0.0  ...  Energy     XOM\n",
       "\n",
       "[5 rows x 9 columns]"
      ]
     },
     "execution_count": 89,
     "metadata": {},
     "output_type": "execute_result"
    }
   ],
   "source": [
    "all_data['XOM'].head()"
   ]
  },
  {
   "cell_type": "code",
   "execution_count": 26,
   "metadata": {},
   "outputs": [
    {
     "data": {
      "text/plain": [
       "Index(['Date', 'Open', 'High', 'Low', 'Close', 'Adj Close', 'Volume', 'Sector',\n",
       "       'Ticker'],\n",
       "      dtype='object')"
      ]
     },
     "execution_count": 26,
     "metadata": {},
     "output_type": "execute_result"
    }
   ],
   "source": [
    "all_data[\"AAPL\"].columns"
   ]
  },
  {
   "cell_type": "code",
   "execution_count": 5,
   "metadata": {},
   "outputs": [],
   "source": [
    "def create_sequences(data, time_steps=60):\n",
    "    \"\"\"\n",
    "    Create sequences from the data.\n",
    "\n",
    "    Parameters:\n",
    "    - data: Original time series data.\n",
    "    - time_steps: Number of time steps in each sequence.\n",
    "\n",
    "    Returns:\n",
    "    - X: Sequences\n",
    "    - y: Targets (the subsequent values)\n",
    "    \"\"\"\n",
    "    \n",
    "    X, y = [], []\n",
    "\n",
    "    for i in range(len(data) - time_steps):\n",
    "        # Extract the sequence and the subsequent value\n",
    "        seq = data[i:(i + time_steps)]\n",
    "        target = data[i + time_steps]\n",
    "        \n",
    "        X.append(seq)\n",
    "        y.append(target)\n",
    "\n",
    "    return np.array(X), np.array(y)\n"
   ]
  },
  {
   "cell_type": "code",
   "execution_count": 29,
   "metadata": {},
   "outputs": [],
   "source": [
    "def create_model(time_steps, features, lose=\"mse\"):\n",
    "    model = Sequential()\n",
    "    # 10 is not a good number of neurons, but it's a start for testing\n",
    "    # 50 is a good number of neurons, but it takes a long time to train\n",
    "    model.add(LSTM(10, activation='relu', input_shape=(time_steps, features)))\n",
    "    model.add(Dense(features))\n",
    "    model.compile(optimizer='adam', loss=lose)\n",
    "    return model"
   ]
  },
  {
   "cell_type": "code",
   "execution_count": 30,
   "metadata": {},
   "outputs": [
    {
     "name": "stdout",
     "output_type": "stream",
     "text": [
      "WARNING:tensorflow:Layer lstm_8 will not use cuDNN kernels since it doesn't meet the criteria. It will use a generic GPU kernel as fallback when running on GPU.\n"
     ]
    },
    {
     "name": "stderr",
     "output_type": "stream",
     "text": [
      "2023-09-18 15:23:07.382972: I tensorflow/core/grappler/optimizers/custom_graph_optimizer_registry.cc:114] Plugin optimizer for device_type GPU is enabled.\n",
      "2023-09-18 15:25:27.131764: I tensorflow/core/grappler/optimizers/custom_graph_optimizer_registry.cc:114] Plugin optimizer for device_type GPU is enabled.\n"
     ]
    },
    {
     "name": "stdout",
     "output_type": "stream",
     "text": [
      "1/1 [==============================] - 0s 258ms/step\n"
     ]
    },
    {
     "name": "stderr",
     "output_type": "stream",
     "text": [
      "2023-09-18 15:30:15.454072: I tensorflow/core/grappler/optimizers/custom_graph_optimizer_registry.cc:114] Plugin optimizer for device_type GPU is enabled.\n"
     ]
    },
    {
     "name": "stdout",
     "output_type": "stream",
     "text": [
      "Predicted value for XOM: [-0.10934462  0.7936239   1.3321731   0.9406815  -0.10562718  0.01945164]\n",
      "Importance value for XOM: 1.2467446327209473\n",
      "WARNING:tensorflow:Layer lstm_9 will not use cuDNN kernels since it doesn't meet the criteria. It will use a generic GPU kernel as fallback when running on GPU.\n"
     ]
    },
    {
     "name": "stderr",
     "output_type": "stream",
     "text": [
      "2023-09-18 15:30:16.129468: I tensorflow/core/grappler/optimizers/custom_graph_optimizer_registry.cc:114] Plugin optimizer for device_type GPU is enabled.\n",
      "2023-09-18 15:31:05.168861: I tensorflow/core/grappler/optimizers/custom_graph_optimizer_registry.cc:114] Plugin optimizer for device_type GPU is enabled.\n"
     ]
    },
    {
     "name": "stdout",
     "output_type": "stream",
     "text": [
      "1/1 [==============================] - 0s 245ms/step\n",
      "Predicted value for SHW: [0.7142233  1.1717377  0.4699628  0.7068581  0.7867955  0.01304184]\n",
      "Importance value for SHW: 1.6542071104049683\n",
      "WARNING:tensorflow:Layer lstm_10 will not use cuDNN kernels since it doesn't meet the criteria. It will use a generic GPU kernel as fallback when running on GPU.\n"
     ]
    },
    {
     "name": "stderr",
     "output_type": "stream",
     "text": [
      "2023-09-18 15:32:49.212168: I tensorflow/core/grappler/optimizers/custom_graph_optimizer_registry.cc:114] Plugin optimizer for device_type GPU is enabled.\n",
      "2023-09-18 15:32:49.951403: I tensorflow/core/grappler/optimizers/custom_graph_optimizer_registry.cc:114] Plugin optimizer for device_type GPU is enabled.\n",
      "2023-09-18 15:33:39.718783: I tensorflow/core/grappler/optimizers/custom_graph_optimizer_registry.cc:114] Plugin optimizer for device_type GPU is enabled.\n"
     ]
    },
    {
     "name": "stdout",
     "output_type": "stream",
     "text": [
      "WARNING:tensorflow:5 out of the last 5 calls to <function Model.make_predict_function.<locals>.predict_function at 0x2da0ca1f0> triggered tf.function retracing. Tracing is expensive and the excessive number of tracings could be due to (1) creating @tf.function repeatedly in a loop, (2) passing tensors with different shapes, (3) passing Python objects instead of tensors. For (1), please define your @tf.function outside of the loop. For (2), @tf.function has reduce_retracing=True option that can avoid unnecessary retracing. For (3), please refer to https://www.tensorflow.org/guide/function#controlling_retracing and https://www.tensorflow.org/api_docs/python/tf/function for  more details.\n",
      "1/1 [==============================] - 0s 236ms/step\n",
      "Predicted value for UPS: [0.5924905  0.8160627  0.582283   0.7064813  0.28118685 1.0167204 ]\n",
      "Importance value for UPS: 2.4096693992614746\n",
      "WARNING:tensorflow:Layer lstm_11 will not use cuDNN kernels since it doesn't meet the criteria. It will use a generic GPU kernel as fallback when running on GPU.\n"
     ]
    },
    {
     "name": "stderr",
     "output_type": "stream",
     "text": [
      "2023-09-18 15:35:21.064819: I tensorflow/core/grappler/optimizers/custom_graph_optimizer_registry.cc:114] Plugin optimizer for device_type GPU is enabled.\n",
      "2023-09-18 15:35:21.665791: I tensorflow/core/grappler/optimizers/custom_graph_optimizer_registry.cc:114] Plugin optimizer for device_type GPU is enabled.\n",
      "2023-09-18 15:36:10.677535: I tensorflow/core/grappler/optimizers/custom_graph_optimizer_registry.cc:114] Plugin optimizer for device_type GPU is enabled.\n"
     ]
    },
    {
     "name": "stdout",
     "output_type": "stream",
     "text": [
      "WARNING:tensorflow:6 out of the last 6 calls to <function Model.make_predict_function.<locals>.predict_function at 0x2e179b0d0> triggered tf.function retracing. Tracing is expensive and the excessive number of tracings could be due to (1) creating @tf.function repeatedly in a loop, (2) passing tensors with different shapes, (3) passing Python objects instead of tensors. For (1), please define your @tf.function outside of the loop. For (2), @tf.function has reduce_retracing=True option that can avoid unnecessary retracing. For (3), please refer to https://www.tensorflow.org/guide/function#controlling_retracing and https://www.tensorflow.org/api_docs/python/tf/function for  more details.\n",
      "1/1 [==============================] - 0s 241ms/step\n",
      "Predicted value for DUK: [-3.071432   -3.7180383   0.6870953  -1.0883465   2.209685   -0.57157284]\n",
      "Importance value for DUK: 4.274110317230225\n",
      "WARNING:tensorflow:Layer lstm_12 will not use cuDNN kernels since it doesn't meet the criteria. It will use a generic GPU kernel as fallback when running on GPU.\n"
     ]
    },
    {
     "name": "stderr",
     "output_type": "stream",
     "text": [
      "2023-09-18 15:37:55.558307: I tensorflow/core/grappler/optimizers/custom_graph_optimizer_registry.cc:114] Plugin optimizer for device_type GPU is enabled.\n",
      "2023-09-18 15:37:56.178143: I tensorflow/core/grappler/optimizers/custom_graph_optimizer_registry.cc:114] Plugin optimizer for device_type GPU is enabled.\n",
      "2023-09-18 15:38:39.944114: I tensorflow/core/grappler/optimizers/custom_graph_optimizer_registry.cc:114] Plugin optimizer for device_type GPU is enabled.\n"
     ]
    },
    {
     "name": "stdout",
     "output_type": "stream",
     "text": [
      "1/1 [==============================] - 0s 248ms/step\n",
      "Predicted value for UNH: [4.535069   0.70253235 2.2081325  0.99962765 3.8794105  1.969738  ]\n",
      "Importance value for UNH: 0.09965753555297852\n",
      "WARNING:tensorflow:Layer lstm_13 will not use cuDNN kernels since it doesn't meet the criteria. It will use a generic GPU kernel as fallback when running on GPU.\n"
     ]
    },
    {
     "name": "stderr",
     "output_type": "stream",
     "text": [
      "2023-09-18 15:40:12.812346: I tensorflow/core/grappler/optimizers/custom_graph_optimizer_registry.cc:114] Plugin optimizer for device_type GPU is enabled.\n",
      "2023-09-18 15:40:13.432468: I tensorflow/core/grappler/optimizers/custom_graph_optimizer_registry.cc:114] Plugin optimizer for device_type GPU is enabled.\n",
      "2023-09-18 15:41:03.489262: I tensorflow/core/grappler/optimizers/custom_graph_optimizer_registry.cc:114] Plugin optimizer for device_type GPU is enabled.\n",
      "2023-09-18 15:48:59.897284: I tensorflow/core/grappler/optimizers/custom_graph_optimizer_registry.cc:114] Plugin optimizer for device_type GPU is enabled.\n"
     ]
    },
    {
     "name": "stdout",
     "output_type": "stream",
     "text": [
      "1/1 [==============================] - 0s 277ms/step\n",
      "Predicted value for JPM: [1.2420801  2.004749   2.0116382  1.6839278  0.9837139  0.30451494]\n",
      "Importance value for JPM: 4.18166971206665\n",
      "WARNING:tensorflow:Layer lstm_14 will not use cuDNN kernels since it doesn't meet the criteria. It will use a generic GPU kernel as fallback when running on GPU.\n"
     ]
    },
    {
     "name": "stderr",
     "output_type": "stream",
     "text": [
      "2023-09-18 15:49:00.673337: I tensorflow/core/grappler/optimizers/custom_graph_optimizer_registry.cc:114] Plugin optimizer for device_type GPU is enabled.\n",
      "2023-09-18 15:49:34.013679: I tensorflow/core/grappler/optimizers/custom_graph_optimizer_registry.cc:114] Plugin optimizer for device_type GPU is enabled.\n"
     ]
    },
    {
     "name": "stdout",
     "output_type": "stream",
     "text": [
      "1/1 [==============================] - ETA: 0s"
     ]
    },
    {
     "name": "stderr",
     "output_type": "stream",
     "text": [
      "2023-09-18 15:50:43.183198: I tensorflow/core/grappler/optimizers/custom_graph_optimizer_registry.cc:114] Plugin optimizer for device_type GPU is enabled.\n"
     ]
    },
    {
     "name": "stdout",
     "output_type": "stream",
     "text": [
      "1/1 [==============================] - 0s 295ms/step\n",
      "Predicted value for AMZN: [ 0.00329451  0.60268044  0.7308001  -0.01342959  0.25307304  0.95916796]\n",
      "Importance value for AMZN: 1.646519422531128\n",
      "WARNING:tensorflow:Layer lstm_15 will not use cuDNN kernels since it doesn't meet the criteria. It will use a generic GPU kernel as fallback when running on GPU.\n"
     ]
    },
    {
     "name": "stderr",
     "output_type": "stream",
     "text": [
      "2023-09-18 15:50:44.003904: I tensorflow/core/grappler/optimizers/custom_graph_optimizer_registry.cc:114] Plugin optimizer for device_type GPU is enabled.\n",
      "2023-09-18 15:52:28.052300: I tensorflow/core/grappler/optimizers/custom_graph_optimizer_registry.cc:114] Plugin optimizer for device_type GPU is enabled.\n",
      "2023-09-18 15:55:57.943352: I tensorflow/core/grappler/optimizers/custom_graph_optimizer_registry.cc:114] Plugin optimizer for device_type GPU is enabled.\n"
     ]
    },
    {
     "name": "stdout",
     "output_type": "stream",
     "text": [
      "1/1 [==============================] - 0s 287ms/step\n",
      "Predicted value for AAPL: [ 0.05479512 -0.29919365 -0.17938155  0.28594506  0.0717153   0.44027317]\n",
      "Importance value for AAPL: -0.36211806535720825\n",
      "WARNING:tensorflow:Layer lstm_16 will not use cuDNN kernels since it doesn't meet the criteria. It will use a generic GPU kernel as fallback when running on GPU.\n"
     ]
    },
    {
     "name": "stderr",
     "output_type": "stream",
     "text": [
      "2023-09-18 15:55:58.741759: I tensorflow/core/grappler/optimizers/custom_graph_optimizer_registry.cc:114] Plugin optimizer for device_type GPU is enabled.\n",
      "2023-09-18 15:56:24.613576: I tensorflow/core/grappler/optimizers/custom_graph_optimizer_registry.cc:114] Plugin optimizer for device_type GPU is enabled.\n"
     ]
    },
    {
     "name": "stdout",
     "output_type": "stream",
     "text": [
      "1/1 [==============================] - 0s 261ms/step\n"
     ]
    },
    {
     "name": "stderr",
     "output_type": "stream",
     "text": [
      "2023-09-18 15:57:13.253976: I tensorflow/core/grappler/optimizers/custom_graph_optimizer_registry.cc:114] Plugin optimizer for device_type GPU is enabled.\n"
     ]
    },
    {
     "name": "stdout",
     "output_type": "stream",
     "text": [
      "Predicted value for META: [0.01556144 0.2573932  0.15435773 0.25018632 0.7994114  0.21757899]\n",
      "Importance value for META: 1.5426522493362427\n",
      "WARNING:tensorflow:Layer lstm_17 will not use cuDNN kernels since it doesn't meet the criteria. It will use a generic GPU kernel as fallback when running on GPU.\n"
     ]
    },
    {
     "name": "stderr",
     "output_type": "stream",
     "text": [
      "2023-09-18 15:57:14.044595: I tensorflow/core/grappler/optimizers/custom_graph_optimizer_registry.cc:114] Plugin optimizer for device_type GPU is enabled.\n",
      "2023-09-18 15:58:10.292928: I tensorflow/core/grappler/optimizers/custom_graph_optimizer_registry.cc:114] Plugin optimizer for device_type GPU is enabled.\n"
     ]
    },
    {
     "name": "stdout",
     "output_type": "stream",
     "text": [
      "1/1 [==============================] - 0s 275ms/step\n"
     ]
    },
    {
     "name": "stderr",
     "output_type": "stream",
     "text": [
      "2023-09-18 16:00:02.914103: I tensorflow/core/grappler/optimizers/custom_graph_optimizer_registry.cc:114] Plugin optimizer for device_type GPU is enabled.\n"
     ]
    },
    {
     "name": "stdout",
     "output_type": "stream",
     "text": [
      "Predicted value for AMT: [0.46217626 0.79730564 0.17581792 0.67005026 0.51907367 1.1350367 ]\n",
      "Importance value for AMT: 3.4579238891601562\n",
      "{'XOM': 1.2467446, 'SHW': 1.6542071, 'UPS': 2.4096694, 'DUK': 4.2741103, 'UNH': 0.099657536, 'JPM': 4.1816697, 'AMZN': 1.6465194, 'AAPL': -0.36211807, 'META': 1.5426522, 'AMT': 3.457924}\n"
     ]
    }
   ],
   "source": [
    "final_importance_values = {}\n",
    "final_predictions = {}\n",
    "scalers = {}\n",
    "# 30 is not a good number of batches, but it's a start for testing\n",
    "# 60 is a good number of batches, but it takes a long time to train\n",
    "time_steps = 30\n",
    "features = 6\n",
    "# Loop through each stock data\n",
    "for ticker, data in all_data.items():\n",
    "    \n",
    "    # Drop non-numeric columns\n",
    "    data = data.drop(columns=['Sector', 'Ticker', 'Date'])  # Assuming 'Date' is the index\n",
    "    \n",
    "    # Normalize the data\n",
    "    scaler = MinMaxScaler()\n",
    "    data_normalized = scaler.fit_transform(data)\n",
    "    scalers[ticker] = scaler\n",
    "    \n",
    "    # Create sequences\n",
    "    X, y = create_sequences(data_normalized, time_steps=time_steps)\n",
    "    \n",
    "    # Split data\n",
    "    train_size = int(0.7 * len(X))\n",
    "    X_train, X_test = X[:train_size], X[train_size:]\n",
    "    y_train, y_test = y[:train_size], y[train_size:]\n",
    "    \n",
    "    # Build and train the LSTM model on each stock data\n",
    "    model = create_model(time_steps=time_steps, features=features)   \n",
    "    model.fit(X_train, y_train, epochs=3, batch_size=4, validation_split=0.2, verbose=0)\n",
    "    '''\n",
    "    Batch Size: Refers to the number of training examples utilized in one iteration. When you set batch_size=32, it means the model takes 32 sequences at a time and updates weights once after computing the loss of the entire batch.\n",
    "    Input Shape (60, 6): Refers to the shape of a single input sequence.\n",
    "    60 indicates the number of time steps in each sequence. In your case, each sequence contains data from 60 days.\n",
    "    6 refers to the number of features ('Open', 'High', 'Low', 'Close', 'Adj Close', and 'Volume').\n",
    "    So, when you train your LSTM, it takes in 32 sequences (if we consider batch_size=32) at a time, and each of those sequences contains 60 time steps with 6 features for each time step.\n",
    "\n",
    "    In simpler terms:\n",
    "\n",
    "    Input Shape: Shape of a single sequence that you feed into the model.\n",
    "    Batch Size: Number of sequences you feed into the model at one go.\n",
    "    These two are different parameters and have different roles in the training process. The batch size is related to how you update the weights during training, whereas the input shape is related to the structure and size of your input data.\n",
    "    '''\n",
    "    \n",
    "    # Predict the next day value\n",
    "    last_days = data_normalized[-time_steps:].reshape(1, time_steps, features)\n",
    "    prediction_next_day = model.predict(last_days)\n",
    "    final_predictions[ticker] = prediction_next_day.flatten()\n",
    "    print(f\"Predicted value for {ticker}: {prediction_next_day.flatten()}\")\n",
    "\n",
    "    \n",
    "    # Extracting importance\n",
    "    dense_weights = model.layers[-1].get_weights()[0]\n",
    "\n",
    "    # Think about to use sum or mean and to use abs() or not\n",
    "    feature_weights = dense_weights.sum(axis=0)\n",
    "    weighted_importance = prediction_next_day.flatten() * feature_weights\n",
    "    final_importance_value = np.sum(weighted_importance)  # Final importance as a single value\n",
    "    print(f\"Importance value for {ticker}: {final_importance_value}\")\n",
    "    \n",
    "    # Store the importance value in the dictionary\n",
    "    final_importance_values[ticker] = final_importance_value\n",
    "\n",
    "print(final_importance_values)"
   ]
  },
  {
   "cell_type": "code",
   "execution_count": 33,
   "metadata": {},
   "outputs": [
    {
     "data": {
      "text/plain": [
       "{'XOM': 1.2467446,\n",
       " 'SHW': 1.6542071,\n",
       " 'UPS': 2.4096694,\n",
       " 'DUK': 4.2741103,\n",
       " 'UNH': 0.099657536,\n",
       " 'JPM': 4.1816697,\n",
       " 'AMZN': 1.6465194,\n",
       " 'AAPL': -0.36211807,\n",
       " 'META': 1.5426522,\n",
       " 'AMT': 3.457924}"
      ]
     },
     "execution_count": 33,
     "metadata": {},
     "output_type": "execute_result"
    }
   ],
   "source": [
    "final_importance_values"
   ]
  },
  {
   "cell_type": "code",
   "execution_count": 36,
   "metadata": {},
   "outputs": [
    {
     "name": "stdout",
     "output_type": "stream",
     "text": [
      "{'XOM': -0.33145866, 'SHW': -0.15568534, 'UPS': 0.17020974, 'DUK': 0.97450197, 'UNH': -0.8262949, 'JPM': 0.93462443, 'AMZN': -0.1590018, 'AAPL': -1.025498, 'META': -0.20380846, 'AMT': 0.62241113}\n"
     ]
    }
   ],
   "source": [
    "importance_values = np.array(list(final_importance_values.values()))\n",
    "\n",
    "# 1. Scale the values to [-1, 1]\n",
    "scaled_importance = 2 * (importance_values - np.min(importance_values)) / (np.max(importance_values) - np.min(importance_values)) - 1\n",
    "\n",
    "# 2. Ensure the sum is zero\n",
    "final_normalized_importance = scaled_importance - np.mean(scaled_importance)\n",
    "\n",
    "# Convert back to dictionary\n",
    "normalized_ticker_to_importance = dict(zip(final_importance_values.keys(), final_normalized_importance))\n",
    "\n",
    "print(normalized_ticker_to_importance)"
   ]
  },
  {
   "cell_type": "code",
   "execution_count": 40,
   "metadata": {},
   "outputs": [
    {
     "data": {
      "image/png": "[encoded data removed]",
      "text/plain": [
       "<Figure size 1200x700 with 1 Axes>"
      ]
     },
     "metadata": {},
     "output_type": "display_data"
    }
   ],
   "source": [
    "import matplotlib.pyplot as plt\n",
    "\n",
    "# Split the tickers and importance values based on positive and negative values\n",
    "long_positions = {k: v for k, v in normalized_ticker_to_importance.items() if v > 0}\n",
    "short_positions = {k: v for k, v in normalized_ticker_to_importance.items() if v <= 0}\n",
    "\n",
    "# Sort the positions for better visualization\n",
    "sorted_long = dict(sorted(long_positions.items(), key=lambda item: item[1], reverse=True))\n",
    "sorted_short = dict(sorted(short_positions.items(), key=lambda item: item[1]))\n",
    "\n",
    "# Create bar charts\n",
    "fig, ax = plt.subplots(figsize=(12, 7))\n",
    "\n",
    "# Positive cluster\n",
    "bars_long = ax.bar(sorted_long.keys(), sorted_long.values(), color='g', label='Long')\n",
    "\n",
    "# Negative cluster\n",
    "bars_short = ax.bar(sorted_short.keys(), sorted_short.values(), color='r', label='Short')\n",
    "\n",
    "# Rotate x-tick labels for better readability\n",
    "plt.xticks(rotation=45, ha='right')\n",
    "\n",
    "# Annotate the bars\n",
    "for bar in bars_long:\n",
    "    yval = bar.get_height()\n",
    "    ax.text(bar.get_x() + bar.get_width()/2, yval + 0.01, round(yval, 3), ha='center', va='bottom', fontsize=9)\n",
    "\n",
    "for bar in bars_short:\n",
    "    yval = bar.get_height()\n",
    "    ax.text(bar.get_x() + bar.get_width()/2, yval - 0.02, round(yval, 3), ha='center', va='top', fontsize=9)\n",
    "\n",
    "ax.set_title('Normalized Importance Values')\n",
    "ax.set_ylabel('Importance Value')\n",
    "ax.set_xlabel('Ticker')\n",
    "ax.legend()\n",
    "\n",
    "plt.tight_layout()\n",
    "plt.show()\n"
   ]
  },
  {
   "cell_type": "code",
   "execution_count": 44,
   "metadata": {},
   "outputs": [
    {
     "name": "stdout",
     "output_type": "stream",
     "text": [
      "[*********************100%%**********************]  1 of 1 completed\n"
     ]
    },
    {
     "data": {
      "text/html": [
       "<div>\n",
       "<style scoped>\n",
       "    .dataframe tbody tr th:only-of-type {\n",
       "        vertical-align: middle;\n",
       "    }\n",
       "\n",
       "    .dataframe tbody tr th {\n",
       "        vertical-align: top;\n",
       "    }\n",
       "\n",
       "    .dataframe thead th {\n",
       "        text-align: right;\n",
       "    }\n",
       "</style>\n",
       "<table border=\"1\" class=\"dataframe\">\n",
       "  <thead>\n",
       "    <tr style=\"text-align: right;\">\n",
       "      <th></th>\n",
       "      <th>Open</th>\n",
       "      <th>High</th>\n",
       "      <th>Low</th>\n",
       "      <th>Close</th>\n",
       "      <th>Adj Close</th>\n",
       "      <th>Volume</th>\n",
       "    </tr>\n",
       "    <tr>\n",
       "      <th>Date</th>\n",
       "      <th></th>\n",
       "      <th></th>\n",
       "      <th></th>\n",
       "      <th></th>\n",
       "      <th></th>\n",
       "      <th></th>\n",
       "    </tr>\n",
       "  </thead>\n",
       "  <tbody>\n",
       "    <tr>\n",
       "      <th>1993-01-31</th>\n",
       "      <td>43.968750</td>\n",
       "      <td>43.968750</td>\n",
       "      <td>43.750000</td>\n",
       "      <td>43.937500</td>\n",
       "      <td>24.941393</td>\n",
       "      <td>1003200</td>\n",
       "    </tr>\n",
       "    <tr>\n",
       "      <th>1993-02-28</th>\n",
       "      <td>44.437500</td>\n",
       "      <td>44.437500</td>\n",
       "      <td>44.187500</td>\n",
       "      <td>44.406250</td>\n",
       "      <td>25.207474</td>\n",
       "      <td>66200</td>\n",
       "    </tr>\n",
       "    <tr>\n",
       "      <th>1993-03-31</th>\n",
       "      <td>45.343750</td>\n",
       "      <td>45.468750</td>\n",
       "      <td>45.187500</td>\n",
       "      <td>45.187500</td>\n",
       "      <td>25.772108</td>\n",
       "      <td>111600</td>\n",
       "    </tr>\n",
       "    <tr>\n",
       "      <th>1993-04-30</th>\n",
       "      <td>44.125000</td>\n",
       "      <td>44.281250</td>\n",
       "      <td>44.031250</td>\n",
       "      <td>44.031250</td>\n",
       "      <td>25.112656</td>\n",
       "      <td>88500</td>\n",
       "    </tr>\n",
       "    <tr>\n",
       "      <th>1993-05-31</th>\n",
       "      <td>45.406250</td>\n",
       "      <td>45.406250</td>\n",
       "      <td>45.000000</td>\n",
       "      <td>45.218750</td>\n",
       "      <td>25.789921</td>\n",
       "      <td>79100</td>\n",
       "    </tr>\n",
       "    <tr>\n",
       "      <th>...</th>\n",
       "      <td>...</td>\n",
       "      <td>...</td>\n",
       "      <td>...</td>\n",
       "      <td>...</td>\n",
       "      <td>...</td>\n",
       "      <td>...</td>\n",
       "    </tr>\n",
       "    <tr>\n",
       "      <th>2023-05-31</th>\n",
       "      <td>418.279999</td>\n",
       "      <td>419.220001</td>\n",
       "      <td>416.220001</td>\n",
       "      <td>417.850006</td>\n",
       "      <td>414.840332</td>\n",
       "      <td>110811800</td>\n",
       "    </tr>\n",
       "    <tr>\n",
       "      <th>2023-06-30</th>\n",
       "      <td>441.440002</td>\n",
       "      <td>444.299988</td>\n",
       "      <td>441.109985</td>\n",
       "      <td>443.279999</td>\n",
       "      <td>441.721893</td>\n",
       "      <td>104921500</td>\n",
       "    </tr>\n",
       "    <tr>\n",
       "      <th>2023-07-31</th>\n",
       "      <td>457.410004</td>\n",
       "      <td>458.160004</td>\n",
       "      <td>456.049988</td>\n",
       "      <td>457.790009</td>\n",
       "      <td>456.180908</td>\n",
       "      <td>62040400</td>\n",
       "    </tr>\n",
       "    <tr>\n",
       "      <th>2023-08-31</th>\n",
       "      <td>451.649994</td>\n",
       "      <td>452.829987</td>\n",
       "      <td>450.160004</td>\n",
       "      <td>450.350006</td>\n",
       "      <td>448.767059</td>\n",
       "      <td>66084600</td>\n",
       "    </tr>\n",
       "    <tr>\n",
       "      <th>2023-09-30</th>\n",
       "      <td>447.140015</td>\n",
       "      <td>447.480011</td>\n",
       "      <td>442.920013</td>\n",
       "      <td>443.369995</td>\n",
       "      <td>443.369995</td>\n",
       "      <td>111761400</td>\n",
       "    </tr>\n",
       "  </tbody>\n",
       "</table>\n",
       "<p>369 rows × 6 columns</p>\n",
       "</div>"
      ],
      "text/plain": [
       "                  Open        High         Low       Close   Adj Close  \\\n",
       "Date                                                                     \n",
       "1993-01-31   43.968750   43.968750   43.750000   43.937500   24.941393   \n",
       "1993-02-28   44.437500   44.437500   44.187500   44.406250   25.207474   \n",
       "1993-03-31   45.343750   45.468750   45.187500   45.187500   25.772108   \n",
       "1993-04-30   44.125000   44.281250   44.031250   44.031250   25.112656   \n",
       "1993-05-31   45.406250   45.406250   45.000000   45.218750   25.789921   \n",
       "...                ...         ...         ...         ...         ...   \n",
       "2023-05-31  418.279999  419.220001  416.220001  417.850006  414.840332   \n",
       "2023-06-30  441.440002  444.299988  441.109985  443.279999  441.721893   \n",
       "2023-07-31  457.410004  458.160004  456.049988  457.790009  456.180908   \n",
       "2023-08-31  451.649994  452.829987  450.160004  450.350006  448.767059   \n",
       "2023-09-30  447.140015  447.480011  442.920013  443.369995  443.369995   \n",
       "\n",
       "               Volume  \n",
       "Date                   \n",
       "1993-01-31    1003200  \n",
       "1993-02-28      66200  \n",
       "1993-03-31     111600  \n",
       "1993-04-30      88500  \n",
       "1993-05-31      79100  \n",
       "...               ...  \n",
       "2023-05-31  110811800  \n",
       "2023-06-30  104921500  \n",
       "2023-07-31   62040400  \n",
       "2023-08-31   66084600  \n",
       "2023-09-30  111761400  \n",
       "\n",
       "[369 rows x 6 columns]"
      ]
     },
     "execution_count": 44,
     "metadata": {},
     "output_type": "execute_result"
    }
   ],
   "source": [
    "spy_data = yf.download('SPY')\n",
    "spy_monthly = spy_data.resample('M').last()\n",
    "spy_monthly"
   ]
  },
  {
   "cell_type": "code",
   "execution_count": 59,
   "metadata": {},
   "outputs": [
    {
     "data": {
      "text/plain": [
       "{'XOM':           Date        Open        High         Low       Close   Adj Close  \\\n",
       " 0   1962-01-31    0.000000    1.656250    1.636719    1.656250    0.101445   \n",
       " 1   1962-02-28    0.000000    1.757813    1.726563    1.730469    0.107163   \n",
       " 2   1962-03-31    0.000000    1.710938    1.703125    1.707031    0.105711   \n",
       " 3   1962-04-30    0.000000    1.710938    1.671875    1.671875    0.103534   \n",
       " 4   1962-05-31    0.000000    1.632813    1.609375    1.625000    0.101744   \n",
       " ..         ...         ...         ...         ...         ...         ...   \n",
       " 736 2023-05-31  102.290001  103.040001  101.739998  102.180000  101.349197   \n",
       " 737 2023-06-30  107.320000  107.879997  106.809998  107.250000  106.377975   \n",
       " 738 2023-07-31  105.190002  107.860001  105.190002  107.239998  106.368050   \n",
       " 739 2023-08-31  111.120003  111.419998  110.620003  111.190002  111.190002   \n",
       " 740 2023-09-30  117.550003  118.660004  117.320000  118.345001  118.345001   \n",
       " \n",
       "        Volume  Sector Ticker  \n",
       " 0     1718400  Energy    XOM  \n",
       " 1     2131200  Energy    XOM  \n",
       " 2      809600  Energy    XOM  \n",
       " 3     1222400  Energy    XOM  \n",
       " 4     3190400  Energy    XOM  \n",
       " ..        ...     ...    ...  \n",
       " 736  24926100  Energy    XOM  \n",
       " 737  13542700  Energy    XOM  \n",
       " 738  24197000  Energy    XOM  \n",
       " 739  17479800  Energy    XOM  \n",
       " 740   7550806  Energy    XOM  \n",
       " \n",
       " [741 rows x 9 columns],\n",
       " 'SHW':           Date        Open        High         Low       Close   Adj Close  \\\n",
       " 0   1980-03-31    0.000000    0.281250    0.274740    0.281250    0.148687   \n",
       " 1   1980-04-30    0.000000    0.305990    0.296875    0.305990    0.161766   \n",
       " 2   1980-05-31    0.000000    0.289063    0.285156    0.285156    0.150751   \n",
       " 3   1980-06-30    0.000000    0.300781    0.298177    0.298177    0.157635   \n",
       " 4   1980-07-31    0.000000    0.338542    0.334635    0.337240    0.178286   \n",
       " ..         ...         ...         ...         ...         ...         ...   \n",
       " 518 2023-05-31  228.550003  228.750000  224.399994  227.779999  227.275345   \n",
       " 519 2023-06-30  262.500000  266.510010  261.720001  265.519989  264.931702   \n",
       " 520 2023-07-31  281.480011  281.989990  272.670013  276.500000  275.887390   \n",
       " 521 2023-08-31  270.739990  273.040009  269.850006  271.720001  271.720001   \n",
       " 522 2023-09-30  269.459991  269.839996  266.519989  268.519989  268.519989   \n",
       " \n",
       "       Volume     Sector Ticker  \n",
       " 0    1420800  Materials    SHW  \n",
       " 1     672000  Materials    SHW  \n",
       " 2     393600  Materials    SHW  \n",
       " 3     134400  Materials    SHW  \n",
       " 4     172800  Materials    SHW  \n",
       " ..       ...        ...    ...  \n",
       " 518  1976200  Materials    SHW  \n",
       " 519  1769000  Materials    SHW  \n",
       " 520  1780000  Materials    SHW  \n",
       " 521  1490100  Materials    SHW  \n",
       " 522   376910  Materials    SHW  \n",
       " \n",
       " [523 rows x 9 columns],\n",
       " 'UPS':           Date        Open        High         Low       Close   Adj Close  \\\n",
       " 0   1999-11-30   67.375000   67.625000   66.062500   66.062500   36.110905   \n",
       " 1   1999-12-31   68.875000   69.500000   68.375000   69.000000   37.716606   \n",
       " 2   2000-01-31   63.000000   64.000000   59.000000   60.000000   32.797039   \n",
       " 3   2000-02-29   55.000000   55.312500   54.500000   54.625000   29.951658   \n",
       " 4   2000-03-31   59.562500   63.000000   58.187500   62.984375   34.535221   \n",
       " ..         ...         ...         ...         ...         ...         ...   \n",
       " 282 2023-05-31  169.059998  169.220001  166.300003  167.000000  165.500168   \n",
       " 283 2023-06-30  176.589996  179.649994  175.559998  179.250000  177.640152   \n",
       " 284 2023-07-31  187.809998  188.320007  186.199997  187.130005  185.449387   \n",
       " 285 2023-08-31  172.029999  172.690002  169.300003  169.399994  169.399994   \n",
       " 286 2023-09-30  159.759995  160.539993  159.029999  160.110001  160.110001   \n",
       " \n",
       "       Volume       Sector Ticker  \n",
       " 0    1686100  Industrials    UPS  \n",
       " 1     649300  Industrials    UPS  \n",
       " 2    5745800  Industrials    UPS  \n",
       " 3     750900  Industrials    UPS  \n",
       " 4     727100  Industrials    UPS  \n",
       " ..       ...          ...    ...  \n",
       " 282  5106100  Industrials    UPS  \n",
       " 283  4891700  Industrials    UPS  \n",
       " 284  2323100  Industrials    UPS  \n",
       " 285  3549800  Industrials    UPS  \n",
       " 286  1301783  Industrials    UPS  \n",
       " \n",
       " [287 rows x 9 columns],\n",
       " 'DUK':           Date       Open       High        Low      Close  Adj Close  \\\n",
       " 0   1980-03-31   0.000000   6.918722   6.646331   6.918722   0.884260   \n",
       " 1   1980-04-30   0.000000   8.171719   8.062763   8.117241   1.037439   \n",
       " 2   1980-05-31   0.000000   7.626938   7.572459   7.626938   0.974775   \n",
       " 3   1980-06-30   0.000000   8.171719   7.953806   8.062763   1.030477   \n",
       " 4   1980-07-31   0.000000   7.790372   7.626938   7.626938   0.974775   \n",
       " ..         ...        ...        ...        ...        ...        ...   \n",
       " 518 2023-05-31  88.300003  89.750000  87.910004  89.290001  88.291939   \n",
       " 519 2023-06-30  89.010002  89.879997  88.650002  89.739998  88.736900   \n",
       " 520 2023-07-31  93.739998  94.169998  92.949997  93.620003  92.573540   \n",
       " 521 2023-08-31  90.260002  90.430000  88.720001  88.800003  88.800003   \n",
       " 522 2023-09-30  94.650002  95.589996  94.360001  95.432999  95.432999   \n",
       " \n",
       "       Volume     Sector Ticker  \n",
       " 0      75718  Utilities    DUK  \n",
       " 1     353582  Utilities    DUK  \n",
       " 2     104170  Utilities    DUK  \n",
       " 3      76866  Utilities    DUK  \n",
       " 4     726668  Utilities    DUK  \n",
       " ..       ...        ...    ...  \n",
       " 518  4150000  Utilities    DUK  \n",
       " 519  2736200  Utilities    DUK  \n",
       " 520  2902800  Utilities    DUK  \n",
       " 521  3139600  Utilities    DUK  \n",
       " 522  2081490  Utilities    DUK  \n",
       " \n",
       " [523 rows x 9 columns],\n",
       " 'UNH':           Date        Open        High         Low       Close   Adj Close  \\\n",
       " 0   1984-10-31    0.000000    0.148438    0.144531    0.144531    0.116592   \n",
       " 1   1984-11-30    0.000000    0.132813    0.128906    0.128906    0.103987   \n",
       " 2   1984-12-31    0.000000    0.125000    0.117188    0.117188    0.094535   \n",
       " 3   1985-01-31    0.000000    0.203125    0.195313    0.195313    0.157557   \n",
       " 4   1985-02-28    0.000000    0.277344    0.269531    0.269531    0.217429   \n",
       " ..         ...         ...         ...         ...         ...         ...   \n",
       " 463 2023-05-31  478.119995  487.399994  477.109985  487.239990  483.366333   \n",
       " 464 2023-06-30  478.000000  482.100006  475.119995  480.640015  478.776184   \n",
       " 465 2023-07-31  503.000000  507.880005  499.059998  506.369995  504.406372   \n",
       " 466 2023-08-31  492.359985  493.820007  476.290009  476.579987  474.731903   \n",
       " 467 2023-09-30  482.630005  484.230011  478.777496  483.459991  483.459991   \n",
       " \n",
       "       Volume      Sector Ticker  \n",
       " 0     297600  Healthcare    UNH  \n",
       " 1     556800  Healthcare    UNH  \n",
       " 2     457600  Healthcare    UNH  \n",
       " 3     656000  Healthcare    UNH  \n",
       " 4    1049600  Healthcare    UNH  \n",
       " ..       ...         ...    ...  \n",
       " 463  4944100  Healthcare    UNH  \n",
       " 464  3970100  Healthcare    UNH  \n",
       " 465  2441600  Healthcare    UNH  \n",
       " 466  4927700  Healthcare    UNH  \n",
       " 467   976896  Healthcare    UNH  \n",
       " \n",
       " [468 rows x 9 columns],\n",
       " 'JPM':           Date        Open        High         Low       Close   Adj Close  \\\n",
       " 0   1980-03-31    0.000000    5.185185    5.074074    5.166667    1.126716   \n",
       " 1   1980-04-30    0.000000    5.425926    5.296296    5.407407    1.179215   \n",
       " 2   1980-05-31    0.000000    5.796296    5.685185    5.796296    1.264023   \n",
       " 3   1980-06-30    0.000000    5.962963    5.814815    5.925926    1.292290   \n",
       " 4   1980-07-31    0.000000    6.203704    6.148148    6.203704    1.352867   \n",
       " ..         ...         ...         ...         ...         ...         ...   \n",
       " 518 2023-05-31  136.729996  136.839996  134.399994  135.710007  134.784363   \n",
       " 519 2023-06-30  144.600006  146.000000  143.660004  145.440002  144.447983   \n",
       " 520 2023-07-31  157.179993  159.380005  157.149994  157.960007  157.960007   \n",
       " 521 2023-08-31  148.259995  148.350006  145.960007  146.330002  146.330002   \n",
       " 522 2023-09-30  147.839996  149.889999  147.520004  149.330002  149.330002   \n",
       " \n",
       "        Volume      Sector Ticker  \n",
       " 0       55350  Financials    JPM  \n",
       " 1       85050  Financials    JPM  \n",
       " 2       80325  Financials    JPM  \n",
       " 3       85050  Financials    JPM  \n",
       " 4      125550  Financials    JPM  \n",
       " ..        ...         ...    ...  \n",
       " 518  14219900  Financials    JPM  \n",
       " 519  14208500  Financials    JPM  \n",
       " 520   8892700  Financials    JPM  \n",
       " 521  10933900  Financials    JPM  \n",
       " 522   4911704  Financials    JPM  \n",
       " \n",
       " [523 rows x 9 columns],\n",
       " 'AMZN':           Date        Open        High         Low       Close   Adj Close  \\\n",
       " 0   1997-05-31    0.075000    0.075521    0.073958    0.075000    0.075000   \n",
       " 1   1997-06-30    0.075521    0.079948    0.073958    0.077083    0.077083   \n",
       " 2   1997-07-31    0.121875    0.121875    0.116667    0.119792    0.119792   \n",
       " 3   1997-08-31    0.118229    0.118750    0.116146    0.116927    0.116927   \n",
       " 4   1997-09-30    0.200000    0.217448    0.190104    0.216927    0.216927   \n",
       " ..         ...         ...         ...         ...         ...         ...   \n",
       " 312 2023-05-31  121.449997  122.040001  119.169998  120.580002  120.580002   \n",
       " 313 2023-06-30  129.470001  131.250000  128.949997  130.360001  130.360001   \n",
       " 314 2023-07-31  133.199997  133.869995  132.380005  133.679993  133.679993   \n",
       " 315 2023-08-31  135.059998  138.789993  135.000000  138.009995  138.009995   \n",
       " 316 2023-09-30  145.080002  145.729996  142.960007  145.399994  145.399994   \n",
       " \n",
       "         Volume                  Sector Ticker  \n",
       " 0     51888000  Consumer Discretionary   AMZN  \n",
       " 1     54936000  Consumer Discretionary   AMZN  \n",
       " 2     29088000  Consumer Discretionary   AMZN  \n",
       " 3     14448000  Consumer Discretionary   AMZN  \n",
       " 4    105096000  Consumer Discretionary   AMZN  \n",
       " ..         ...                     ...    ...  \n",
       " 312   72800800  Consumer Discretionary   AMZN  \n",
       " 313   54310500  Consumer Discretionary   AMZN  \n",
       " 314   41901500  Consumer Discretionary   AMZN  \n",
       " 315   58781300  Consumer Discretionary   AMZN  \n",
       " 316   37457493  Consumer Discretionary   AMZN  \n",
       " \n",
       " [317 rows x 9 columns],\n",
       " 'AAPL':           Date        Open        High         Low       Close   Adj Close  \\\n",
       " 0   1980-12-31    0.152902    0.152902    0.152344    0.152344    0.118043   \n",
       " 1   1981-01-31    0.127232    0.127232    0.126116    0.126116    0.097720   \n",
       " 2   1981-02-28    0.118304    0.119420    0.118304    0.118304    0.091667   \n",
       " 3   1981-03-31    0.110491    0.110491    0.109375    0.109375    0.084748   \n",
       " 4   1981-04-30    0.126674    0.127790    0.126674    0.126674    0.098152   \n",
       " ..         ...         ...         ...         ...         ...         ...   \n",
       " 509 2023-05-31  177.330002  179.350006  176.759995  177.250000  177.010971   \n",
       " 510 2023-06-30  191.630005  194.479996  191.259995  193.970001  193.708420   \n",
       " 511 2023-07-31  196.059998  196.490005  195.259995  196.449997  196.185074   \n",
       " 512 2023-08-31  187.839996  189.119995  187.479996  187.869995  187.869995   \n",
       " 513 2023-09-30  174.000000  176.039993  173.580002  175.850006  175.850006   \n",
       " \n",
       "        Volume                  Sector Ticker  \n",
       " 0    35750400  Information Technology   AAPL  \n",
       " 1    46188800  Information Technology   AAPL  \n",
       " 2    14761600  Information Technology   AAPL  \n",
       " 3    15993600  Information Technology   AAPL  \n",
       " 4    12611200  Information Technology   AAPL  \n",
       " ..        ...                     ...    ...  \n",
       " 509  99625300  Information Technology   AAPL  \n",
       " 510  85069600  Information Technology   AAPL  \n",
       " 511  38824100  Information Technology   AAPL  \n",
       " 512  60794500  Information Technology   AAPL  \n",
       " 513  37303954  Information Technology   AAPL  \n",
       " \n",
       " [514 rows x 9 columns],\n",
       " 'META':           Date        Open        High         Low       Close   Adj Close  \\\n",
       " 0   2012-05-31   28.549999   29.670000   26.830000   29.600000   29.600000   \n",
       " 1   2012-06-30   31.920000   31.990000   30.760000   31.100000   31.100000   \n",
       " 2   2012-07-31   23.370001   23.370001   21.610001   21.709999   21.709999   \n",
       " 3   2012-08-31   18.680000   18.700001   18.030001   18.059999   18.059999   \n",
       " 4   2012-09-30   20.570000   21.950001   20.500000   21.660000   21.660000   \n",
       " ..         ...         ...         ...         ...         ...         ...   \n",
       " 132 2023-05-31  260.000000  265.000000  258.450012  264.720001  264.720001   \n",
       " 133 2023-06-30  284.760010  289.049988  284.420013  286.980011  286.980011   \n",
       " 134 2023-07-31  323.690002  325.660004  317.589996  318.600006  318.600006   \n",
       " 135 2023-08-31  295.799988  301.100006  295.660004  295.890015  295.890015   \n",
       " 136 2023-09-30  306.739990  311.500000  305.029999  311.265015  311.265015   \n",
       " \n",
       "         Volume                  Sector Ticker  \n",
       " 0    111639200  Communication Services   META  \n",
       " 1     19526900  Communication Services   META  \n",
       " 2     56179400  Communication Services   META  \n",
       " 3     58764200  Communication Services   META  \n",
       " 4     65486000  Communication Services   META  \n",
       " ..         ...                     ...    ...  \n",
       " 132   25473700  Communication Services   META  \n",
       " 133   19676000  Communication Services   META  \n",
       " 134   25799600  Communication Services   META  \n",
       " 135   17229900  Communication Services   META  \n",
       " 136   11355695  Communication Services   META  \n",
       " \n",
       " [137 rows x 9 columns],\n",
       " 'AMT':           Date        Open        High         Low       Close   Adj Close  \\\n",
       " 0   1998-02-28   17.375000   18.000000   17.375000   17.375000   13.841517   \n",
       " 1   1998-03-31   19.875000   20.250000   19.875000   20.125000   16.032265   \n",
       " 2   1998-04-30   22.500000   23.250000   22.375000   23.000000   18.322586   \n",
       " 3   1998-05-31   20.500000   22.500000   20.500000   22.500000   17.924274   \n",
       " 4   1998-06-30   22.937500   24.937500   22.687500   24.937500   19.866064   \n",
       " ..         ...         ...         ...         ...         ...         ...   \n",
       " 303 2023-05-31  182.259995  185.639999  178.529999  184.440002  182.939789   \n",
       " 304 2023-06-30  194.270004  195.300003  191.190002  193.940002  193.940002   \n",
       " 305 2023-07-31  189.339996  191.690002  189.000000  190.309998  190.309998   \n",
       " 306 2023-08-31  183.080002  183.520004  180.729996  181.320007  181.320007   \n",
       " 307 2023-09-30  178.630005  182.220001  178.660004  180.740005  180.740005   \n",
       " \n",
       "       Volume       Sector Ticker  \n",
       " 0      50000  Real Estate    AMT  \n",
       " 1      79000  Real Estate    AMT  \n",
       " 2     116300  Real Estate    AMT  \n",
       " 3     121900  Real Estate    AMT  \n",
       " 4     566300  Real Estate    AMT  \n",
       " ..       ...          ...    ...  \n",
       " 303  7074800  Real Estate    AMT  \n",
       " 304  3243100  Real Estate    AMT  \n",
       " 305  1812500  Real Estate    AMT  \n",
       " 306  1567100  Real Estate    AMT  \n",
       " 307   642821  Real Estate    AMT  \n",
       " \n",
       " [308 rows x 9 columns]}"
      ]
     },
     "execution_count": 59,
     "metadata": {},
     "output_type": "execute_result"
    }
   ],
   "source": [
    "all_data"
   ]
  },
  {
   "cell_type": "code",
   "execution_count": 104,
   "metadata": {},
   "outputs": [],
   "source": [
    "pd.set_option('display.max_rows', 100)\n",
    "pd.set_option('display.max_columns', 5)"
   ]
  },
  {
   "cell_type": "code",
   "execution_count": 102,
   "metadata": {},
   "outputs": [
    {
     "name": "stdout",
     "output_type": "stream",
     "text": [
      "            Cumulative Portfolio  Cumulative SPY\n",
      "Date                                            \n",
      "1993-01-31             -0.998865        0.000000\n",
      "1993-02-28             -0.998418        0.010668\n",
      "1993-03-31             -0.998568        0.033307\n",
      "1993-04-30             -0.998680        0.006867\n",
      "1993-05-31             -0.998925        0.034021\n",
      "...                          ...             ...\n",
      "2019-08-31             -1.000000        9.950418\n",
      "2019-09-30             -1.000000       10.163490\n",
      "2019-10-31             -1.000000       10.410252\n",
      "2019-11-30             -1.000000       10.823284\n",
      "2019-12-31             -1.000000       11.166817\n",
      "\n",
      "[324 rows x 2 columns]\n"
     ]
    },
    {
     "data": {
      "image/png": "[encoded data removed]",
      "text/plain": [
       "<Figure size 1400x700 with 1 Axes>"
      ]
     },
     "metadata": {},
     "output_type": "display_data"
    }
   ],
   "source": [
    "# Construct the Portfolio and Backtest\n",
    "portfolio_returns = pd.DataFrame()\n",
    "for ticker, importance in normalized_ticker_to_importance.items():\n",
    "    data = all_data[ticker].set_index('Date')\n",
    "    data['Returns'] = data['Adj Close'].pct_change().fillna(0)\n",
    "    portfolio_returns[ticker] = data['Returns'] * importance\n",
    "portfolio_returns['Portfolio'] = portfolio_returns.sum(axis=1)\n",
    "spy_monthly['SPY Returns'] = spy_monthly['Adj Close'].pct_change().fillna(0)\n",
    "# Cumulative Returns\n",
    "portfolio_returns['Cumulative Portfolio'] = (portfolio_returns['Portfolio'] + 1).cumprod() - 1\n",
    "spy_monthly['Cumulative SPY'] = (spy_monthly['SPY Returns'] + 1).cumprod() - 1\n",
    "combined = pd.concat([portfolio_returns['Cumulative Portfolio'], spy_monthly['Cumulative SPY']], axis=1).dropna()\n",
    "print(combined)\n",
    "# Plot\n",
    "plt.figure(figsize=(14,7))\n",
    "combined['Cumulative Portfolio'].plot(label=\"Portfolio\")\n",
    "combined['Cumulative SPY'].plot(label=\"SPY\")\n",
    "plt.legend()\n",
    "plt.title(\"Portfolio vs. SPY Cumulative Returns\")\n",
    "plt.show()\n"
   ]
  },
  {
   "cell_type": "code",
   "execution_count": 105,
   "metadata": {},
   "outputs": [
    {
     "data": {
      "text/html": [
       "<div>\n",
       "<style scoped>\n",
       "    .dataframe tbody tr th:only-of-type {\n",
       "        vertical-align: middle;\n",
       "    }\n",
       "\n",
       "    .dataframe tbody tr th {\n",
       "        vertical-align: top;\n",
       "    }\n",
       "\n",
       "    .dataframe thead th {\n",
       "        text-align: right;\n",
       "    }\n",
       "</style>\n",
       "<table border=\"1\" class=\"dataframe\">\n",
       "  <thead>\n",
       "    <tr style=\"text-align: right;\">\n",
       "      <th></th>\n",
       "      <th>Cumulative Portfolio</th>\n",
       "      <th>Cumulative SPY</th>\n",
       "    </tr>\n",
       "    <tr>\n",
       "      <th>Date</th>\n",
       "      <th></th>\n",
       "      <th></th>\n",
       "    </tr>\n",
       "  </thead>\n",
       "  <tbody>\n",
       "    <tr>\n",
       "      <th>1993-01-31</th>\n",
       "      <td>-0.998865</td>\n",
       "      <td>0.000000</td>\n",
       "    </tr>\n",
       "    <tr>\n",
       "      <th>1993-02-28</th>\n",
       "      <td>-0.998418</td>\n",
       "      <td>0.010668</td>\n",
       "    </tr>\n",
       "    <tr>\n",
       "      <th>1993-03-31</th>\n",
       "      <td>-0.998568</td>\n",
       "      <td>0.033307</td>\n",
       "    </tr>\n",
       "    <tr>\n",
       "      <th>1993-04-30</th>\n",
       "      <td>-0.998680</td>\n",
       "      <td>0.006867</td>\n",
       "    </tr>\n",
       "    <tr>\n",
       "      <th>1993-05-31</th>\n",
       "      <td>-0.998925</td>\n",
       "      <td>0.034021</td>\n",
       "    </tr>\n",
       "    <tr>\n",
       "      <th>...</th>\n",
       "      <td>...</td>\n",
       "      <td>...</td>\n",
       "    </tr>\n",
       "    <tr>\n",
       "      <th>2019-08-31</th>\n",
       "      <td>-1.000000</td>\n",
       "      <td>9.950418</td>\n",
       "    </tr>\n",
       "    <tr>\n",
       "      <th>2019-09-30</th>\n",
       "      <td>-1.000000</td>\n",
       "      <td>10.163490</td>\n",
       "    </tr>\n",
       "    <tr>\n",
       "      <th>2019-10-31</th>\n",
       "      <td>-1.000000</td>\n",
       "      <td>10.410252</td>\n",
       "    </tr>\n",
       "    <tr>\n",
       "      <th>2019-11-30</th>\n",
       "      <td>-1.000000</td>\n",
       "      <td>10.823284</td>\n",
       "    </tr>\n",
       "    <tr>\n",
       "      <th>2019-12-31</th>\n",
       "      <td>-1.000000</td>\n",
       "      <td>11.166817</td>\n",
       "    </tr>\n",
       "  </tbody>\n",
       "</table>\n",
       "<p>324 rows × 2 columns</p>\n",
       "</div>"
      ],
      "text/plain": [
       "            Cumulative Portfolio  Cumulative SPY\n",
       "Date                                            \n",
       "1993-01-31             -0.998865        0.000000\n",
       "1993-02-28             -0.998418        0.010668\n",
       "1993-03-31             -0.998568        0.033307\n",
       "1993-04-30             -0.998680        0.006867\n",
       "1993-05-31             -0.998925        0.034021\n",
       "...                          ...             ...\n",
       "2019-08-31             -1.000000        9.950418\n",
       "2019-09-30             -1.000000       10.163490\n",
       "2019-10-31             -1.000000       10.410252\n",
       "2019-11-30             -1.000000       10.823284\n",
       "2019-12-31             -1.000000       11.166817\n",
       "\n",
       "[324 rows x 2 columns]"
      ]
     },
     "execution_count": 105,
     "metadata": {},
     "output_type": "execute_result"
    }
   ],
   "source": [
    "combined"
   ]
  },
  {
   "cell_type": "code",
   "execution_count": 106,
   "metadata": {},
   "outputs": [
    {
     "data": {
      "text/plain": [
       "<Axes: xlabel='Date'>"
      ]
     },
     "execution_count": 106,
     "metadata": {},
     "output_type": "execute_result"
    },
    {
     "data": {
      "image/png": "[encoded data removed]",
      "text/plain": [
       "<Figure size 640x480 with 1 Axes>"
      ]
     },
     "metadata": {},
     "output_type": "display_data"
    }
   ],
   "source": [
    "portfolio_returns[\"Cumulative Portfolio\"].plot()"
   ]
  }
 ],
 "metadata": {
  "kernelspec": {
   "display_name": "nus_fintech",
   "language": "python",
   "name": "python3"
  },
  "language_info": {
   "codemirror_mode": {
    "name": "ipython",
    "version": 3
   },
   "file_extension": ".py",
   "mimetype": "text/x-python",
   "name": "python",
   "nbconvert_exporter": "python",
   "pygments_lexer": "ipython3",
   "version": "3.8.17"
  },
  "orig_nbformat": 4
 },
 "nbformat": 4,
 "nbformat_minor": 2
}
