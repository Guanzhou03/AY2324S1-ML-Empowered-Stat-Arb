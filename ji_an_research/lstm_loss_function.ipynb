{
 "cells": [
  {
   "cell_type": "code",
   "execution_count": 1,
   "metadata": {},
   "outputs": [],
   "source": [
    "from lstm_functions import *\n",
    "from lost_functions import *\n",
    "import numpy as np\n",
    "import pandas as pd\n",
    "from sklearn.compose import ColumnTransformer\n",
    "import matplotlib.pyplot as plt"
   ]
  },
  {
   "cell_type": "markdown",
   "metadata": {},
   "source": [
    "# Use Apple Stock for testing purposes only\n",
    "This is so that LSTM do not take 2 hour to run  \n",
    "This notebook is mainly for testing of custom loss function"
   ]
  },
  {
   "cell_type": "code",
   "execution_count": 2,
   "metadata": {},
   "outputs": [],
   "source": [
    "xls = pd.ExcelFile('data/data_for_testing.xlsx')\n",
    "apple = pd.read_excel(xls, sheet_name=\"AAPL\").set_index(\"Date\").resample(\"M\").last().reset_index()\n",
    "all_data = {\"AAPL\": apple[[\"Open\", \"High\", \"Low\", \"Close\", \"Adj Close\", \"Volume\"]]}"
   ]
  },
  {
   "cell_type": "code",
   "execution_count": 3,
   "metadata": {},
   "outputs": [],
   "source": [
    "final_importance_values = {}\n",
    "final_predictions = {}\n",
    "# 30 is not a good number of batches, but it's a start for testing\n",
    "# 60 is a good number of batches, but it takes a long time to train\n",
    "time_steps = 1\n",
    "features = 6"
   ]
  },
  {
   "cell_type": "code",
   "execution_count": 4,
   "metadata": {},
   "outputs": [],
   "source": [
    "best_loss_value = float('inf')  # Initialize with a high value\n",
    "best_loss_function = None\n",
    "\n",
    "evaluation_results = {}  # Store evaluation results for each loss function"
   ]
  },
  {
   "cell_type": "code",
   "execution_count": 5,
   "metadata": {},
   "outputs": [
    {
     "name": "stdout",
     "output_type": "stream",
     "text": [
      "loss_names RMSE\n",
      "loss_names MAE\n",
      "loss_names MAPE\n",
      "loss_names Huber Loss\n",
      "Evaluation Results:\n",
      "RMSE: 0.010864952579140663\n",
      "MAE: 0.007904290221631527\n",
      "MAPE: 24255.41015625\n",
      "Huber Loss: 0.0003703026450239122\n",
      "The best loss function is: Huber Loss with value: 0.0003703026450239122\n"
     ]
    }
   ],
   "source": [
    "for loss_func, loss_name in zip(loss_functions, loss_names):\n",
    "    print(\"loss_names\", loss_name)\n",
    "    # Define the model\n",
    "    lstm_model = LstmBuilder(time_step=time_steps, loss=loss_func, batch_size=4)\n",
    "    model = lstm_model.create_stateful_model(features=features)\n",
    "    scaler = MinMaxScaler()\n",
    "    normalized_data = scaler.fit_transform(all_data[\"AAPL\"])\n",
    "    X, y = lstm_model.create_sequences(normalized_data)\n",
    "    X_train, X_test, y_train, y_test = lstm_model.split_stateful_data(X,y)\n",
    "\n",
    "    # Train the model\n",
    "    model.fit(X_train, y_train, epochs=3, batch_size=4, verbose=0)\n",
    "    # Evaluate the model on the validation set\n",
    "    # You might want to split your data into a validation set beforehand.\n",
    "    val_loss = model.evaluate(X_train, y_train, verbose=0, batch_size=4)\n",
    "    model.reset_states()\n",
    "    # Store the evaluation result\n",
    "    evaluation_results[loss_name] = val_loss\n",
    "    \n",
    "    # Check if this loss function is the best so far\n",
    "    if val_loss < best_loss_value:\n",
    "        best_loss_value = val_loss\n",
    "        best_loss_function = loss_name\n",
    "\n",
    "print(\"Evaluation Results:\")\n",
    "for loss_name, val_loss in evaluation_results.items():\n",
    "    print(f\"{loss_name}: {val_loss}\")\n",
    "\n",
    "print(f\"The best loss function is: {best_loss_function} with value: {best_loss_value}\")"
   ]
  }
 ],
 "metadata": {
  "kernelspec": {
   "display_name": "nus_fintech",
   "language": "python",
   "name": "python3"
  },
  "language_info": {
   "codemirror_mode": {
    "name": "ipython",
    "version": 3
   },
   "file_extension": ".py",
   "mimetype": "text/x-python",
   "name": "python",
   "nbconvert_exporter": "python",
   "pygments_lexer": "ipython3",
   "version": "3.9.13"
  },
  "orig_nbformat": 4
 },
 "nbformat": 4,
 "nbformat_minor": 2
}
