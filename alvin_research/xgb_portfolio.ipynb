{
 "cells": [
  {
   "cell_type": "code",
   "execution_count": 1,
   "metadata": {},
   "outputs": [],
   "source": [
    "import pandas as pd\n",
    "import numpy as np\n",
    "import yfinance as yf\n",
    "import xgboost as xgb\n",
    "import matplotlib.pyplot as plt\n",
    "import seaborn as sns\n",
    "import joblib\n",
    "import os"
   ]
  },
  {
   "cell_type": "code",
   "execution_count": 4,
   "metadata": {},
   "outputs": [],
   "source": [
    "# Iterate through existing models and load them in\n",
    "PATH= \"models\"\n",
    "ext=\".joblib\"\n",
    "models = {}\n",
    "for model in os.listdir(PATH):\n",
    "    file_path = os.path.join(PATH, model)\n",
    "    \n",
    "    # Check if it's a proper model\n",
    "    if os.path.isfile(file_path) and os.path.splitext(file_path)[1] == ext:\n",
    "        stock = os.path.splitext(file_path)[0].split(\"/\")[1]\n",
    "        models[stock] = joblib.load(file_path)"
   ]
  },
  {
   "cell_type": "code",
   "execution_count": 10,
   "metadata": {},
   "outputs": [
    {
     "data": {
      "text/plain": [
       "[<xgboost.core.Booster at 0x28323e730>,\n",
       " <xgboost.core.Booster at 0x28323ea90>,\n",
       " <xgboost.core.Booster at 0x2830d00a0>,\n",
       " <xgboost.core.Booster at 0x2830d0430>,\n",
       " <xgboost.core.Booster at 0x2830d0040>,\n",
       " <xgboost.core.Booster at 0x2830d04c0>,\n",
       " <xgboost.core.Booster at 0x2830d0310>,\n",
       " <xgboost.core.Booster at 0x2830d0460>,\n",
       " <xgboost.core.Booster at 0x2830d0fd0>,\n",
       " <xgboost.core.Booster at 0x107d8dd60>,\n",
       " <xgboost.core.Booster at 0x107d8dbb0>,\n",
       " <xgboost.core.Booster at 0x107d8dc10>]"
      ]
     },
     "execution_count": 10,
     "metadata": {},
     "output_type": "execute_result"
    }
   ],
   "source": [
    "list(models.values())"
   ]
  },
  {
   "cell_type": "code",
   "execution_count": null,
   "metadata": {},
   "outputs": [],
   "source": [
    "# Get test data\n",
    "for key in models:\n",
    "    yf.download"
   ]
  }
 ],
 "metadata": {
  "kernelspec": {
   "display_name": "Python 3",
   "language": "python",
   "name": "python3"
  },
  "language_info": {
   "codemirror_mode": {
    "name": "ipython",
    "version": 3
   },
   "file_extension": ".py",
   "mimetype": "text/x-python",
   "name": "python",
   "nbconvert_exporter": "python",
   "pygments_lexer": "ipython3",
   "version": "3.9.12"
  },
  "orig_nbformat": 4
 },
 "nbformat": 4,
 "nbformat_minor": 2
}
